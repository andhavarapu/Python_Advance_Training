{
 "cells": [
  {
   "cell_type": "code",
   "execution_count": 1,
   "metadata": {},
   "outputs": [
    {
     "name": "stdout",
     "output_type": "stream",
     "text": [
      "Series([], dtype: float64)\n"
     ]
    }
   ],
   "source": [
    "# Pandas_Series  #27-Aug-2019[Tuesday]\n",
    "\n",
    "# Syntax --> pandas.Series (data,index,dtype,copy)\n",
    "# data --> is Mandatory\n",
    "# Index,dtype and Copy --> Are optional.\n",
    "\n",
    "#creating an empty series\n",
    "\n",
    "import pandas as pd\n",
    "s=pd.Series()\n",
    "print(s)"
   ]
  },
  {
   "cell_type": "code",
   "execution_count": 2,
   "metadata": {},
   "outputs": [
    {
     "name": "stdout",
     "output_type": "stream",
     "text": [
      "0    a\n",
      "1    b\n",
      "2    c\n",
      "3    d\n",
      "dtype: object\n"
     ]
    }
   ],
   "source": [
    "# Creating a series from a ndarray\n",
    "# Series deals with singular array of data!\n",
    "\n",
    "import numpy as np\n",
    "import pandas as pd\n",
    "\n",
    "data = np.array(['a','b','c','d'])\n",
    "s = pd.Series(data)\n",
    "print(s)\n",
    "\n",
    "#NOTE: 0,1,2,3 are default values and they are called as indexing position."
   ]
  },
  {
   "cell_type": "code",
   "execution_count": 3,
   "metadata": {},
   "outputs": [
    {
     "name": "stdout",
     "output_type": "stream",
     "text": [
      "100    a\n",
      "101    b\n",
      "102    c\n",
      "103    d\n",
      "dtype: object\n"
     ]
    }
   ],
   "source": [
    "# Creating the index position manually!!\n",
    "\n",
    "import numpy as np\n",
    "import pandas as pd\n",
    "\n",
    "data = np.array(['a','b','c','d'])\n",
    "s = pd.Series(data, index = [100,101,102,103])\n",
    "print(s)\n",
    "\n",
    "#Note: In the output index position number changed from default (0 to 3 ) to (100 to 103)"
   ]
  },
  {
   "cell_type": "code",
   "execution_count": 5,
   "metadata": {},
   "outputs": [
    {
     "name": "stdout",
     "output_type": "stream",
     "text": [
      "a    0.0\n",
      "b    1.0\n",
      "c    2.0\n",
      "dtype: float64\n"
     ]
    }
   ],
   "source": [
    "# Creating a series from a dictionary!!\n",
    "# When ever creating a series with a dic, index positions will be keys and value is pair\n",
    "\n",
    "import numpy as np\n",
    "import pandas as pd\n",
    "\n",
    "data = {'a':0., 'b':1., 'c':2.}\n",
    "s = pd.Series(data)\n",
    "print(s)"
   ]
  },
  {
   "cell_type": "code",
   "execution_count": 6,
   "metadata": {},
   "outputs": [
    {
     "name": "stdout",
     "output_type": "stream",
     "text": [
      "b    1.0\n",
      "c    2.0\n",
      "d    NaN\n",
      "a    0.0\n",
      "dtype: float64\n"
     ]
    }
   ],
   "source": [
    "import numpy as np\n",
    "import pandas as pd\n",
    "\n",
    "data = {'a':0, 'b':1, 'c':2}\n",
    "s = pd.Series(data, index = ['b','c','d','a'])\n",
    "print(s)\n",
    "\n",
    "# In the output values re-assigned based on the index.\n",
    "# NAN --> NOT A NUMBER!!"
   ]
  },
  {
   "cell_type": "code",
   "execution_count": 7,
   "metadata": {},
   "outputs": [
    {
     "name": "stdout",
     "output_type": "stream",
     "text": [
      "0    5\n",
      "1    5\n",
      "2    5\n",
      "3    5\n",
      "dtype: int64\n"
     ]
    }
   ],
   "source": [
    "# creating a series from a scalar value\n",
    "\n",
    "import numpy as np\n",
    "import pandas as pd\n",
    "\n",
    "s=pd.Series(5, index = [0,1,2,3])\n",
    "print(s)\n",
    "\n",
    "# NOTE: Whenever using the scalar values, manually need to give the index position.\n",
    "# How to calculate how many index position? i.e. len(scalar)-1.\n",
    "# i.e. 5-1 = 4"
   ]
  },
  {
   "cell_type": "code",
   "execution_count": 8,
   "metadata": {},
   "outputs": [
    {
     "name": "stdout",
     "output_type": "stream",
     "text": [
      "a    1\n",
      "b    2\n",
      "c    3\n",
      "d    4\n",
      "e    5\n",
      "dtype: int64\n"
     ]
    }
   ],
   "source": [
    "# how to access the data?\n",
    "\n",
    "import numpy as np\n",
    "import pandas as pd\n",
    "\n",
    "a=pd.Series([1,2,3,4,5], index = ['a','b','c','d','e'])\n",
    "print(a)"
   ]
  },
  {
   "cell_type": "code",
   "execution_count": 11,
   "metadata": {},
   "outputs": [
    {
     "name": "stdout",
     "output_type": "stream",
     "text": [
      "1\n",
      "5\n"
     ]
    }
   ],
   "source": [
    "print (a[0])\n",
    "print (a[5-1])"
   ]
  }
 ],
 "metadata": {
  "kernelspec": {
   "display_name": "Python 3",
   "language": "python",
   "name": "python3"
  },
  "language_info": {
   "codemirror_mode": {
    "name": "ipython",
    "version": 3
   },
   "file_extension": ".py",
   "mimetype": "text/x-python",
   "name": "python",
   "nbconvert_exporter": "python",
   "pygments_lexer": "ipython3",
   "version": "3.7.3"
  }
 },
 "nbformat": 4,
 "nbformat_minor": 2
}
