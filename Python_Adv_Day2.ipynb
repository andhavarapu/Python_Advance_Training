{
 "cells": [
  {
   "cell_type": "code",
   "execution_count": null,
   "metadata": {},
   "outputs": [],
   "source": [
    "# Python_Adv_Day1 - 08-01-2019[Thursday]\n",
    "\n",
    "# Numpy_Day1_Intro.\n",
    "\n",
    "# Introduction to Numpy.\n",
    "\n",
    "# Creating Arrays\n",
    "# Printing Arrays\n",
    "# Basic Operations\n",
    "# Indexing & Slicing.\n",
    "# How & When we will be using it...??\n",
    "#                  like Data Analytics, Data Science fields,AI.. where data is involved...numpy will be there as underlying.\n",
    "\n",
    "\n",
    "# Q) What exactly a Numpy is ??\n",
    "# A) Numpy is a numerical computing package!!\n",
    "# Note: Python cannot support the functionality what numpy provides directly.\n",
    "\n",
    "# Q) What are all we be will working on...?\n",
    "# A) Multi Dimentionsal data --NUMPY---ndarray...!! forms as a core scientific package.\n",
    "\n",
    "# -- Supports wide variety of operation, ML Computations such as Linear Algebra, Random number capabilities etc...\n",
    "# -- Basic building block of numpy is a poweful -n Dimensional array\n",
    "# -- It forms the core of the python eco system, of open source s/w for maths,science & Engineering.\n",
    "# -- Numpy forms the core of these things!!"
   ]
  },
  {
   "cell_type": "code",
   "execution_count": 1,
   "metadata": {},
   "outputs": [
    {
     "name": "stdout",
     "output_type": "stream",
     "text": [
      "Requirement already satisfied: numpy in /home/andhavarapu/anaconda3/lib/python3.7/site-packages (1.16.2)\r\n"
     ]
    }
   ],
   "source": [
    "# Steps to install numpy.\n",
    "# Note: Jupyter will have numpy by default.\n",
    "\n",
    "!pip install numpy"
   ]
  },
  {
   "cell_type": "code",
   "execution_count": 2,
   "metadata": {},
   "outputs": [
    {
     "name": "stdout",
     "output_type": "stream",
     "text": [
      "Collecting numpy\n",
      "\u001b[?25l  Downloading https://files.pythonhosted.org/packages/05/4b/55cfbfd3e5e85016eeef9f21c0ec809d978706a0d60b62cc28aeec8c792f/numpy-1.17.0-cp37-cp37m-manylinux1_x86_64.whl (20.3MB)\n",
      "\u001b[K    100% |████████████████████████████████| 20.3MB 779kB/s ta 0:00:011  4% |█▍                              | 870kB 5.0MB/s eta 0:00:04    71% |██████████████████████▊         | 14.5MB 1.7MB/s eta 0:00:04\n",
      "\u001b[31mtables 3.5.1 requires mock>=2.0, which is not installed.\u001b[0m\n",
      "\u001b[?25hInstalling collected packages: numpy\n",
      "  Found existing installation: numpy 1.16.2\n",
      "    Uninstalling numpy-1.16.2:\n",
      "      Successfully uninstalled numpy-1.16.2\n",
      "Successfully installed numpy-1.17.0\n"
     ]
    }
   ],
   "source": [
    "# Steps to upgrade numpy.\n",
    "\n",
    "!pip install numpy --upgrade"
   ]
  },
  {
   "cell_type": "code",
   "execution_count": 3,
   "metadata": {},
   "outputs": [
    {
     "name": "stdout",
     "output_type": "stream",
     "text": [
      "Requirement already satisfied: numpy in /home/andhavarapu/anaconda3/lib/python3.7/site-packages (1.17.0)\r\n"
     ]
    }
   ],
   "source": [
    "# As per above numpy upgrade completed.\n",
    "# To check current version of numpy, run the upgrade command.\n",
    "\n",
    "!pip install numpy"
   ]
  },
  {
   "cell_type": "code",
   "execution_count": 4,
   "metadata": {},
   "outputs": [
    {
     "data": {
      "text/plain": [
       "array([1, 2, 3, 4])"
      ]
     },
     "execution_count": 4,
     "metadata": {},
     "output_type": "execute_result"
    }
   ],
   "source": [
    "import numpy as np\n",
    "# As is used for alias names..simplicity in coding.\n",
    "# Note: Any name can be used for alias.\n",
    "# Commonly follwed alias\n",
    "# numpy = np\n",
    "# Pandas = pd\n",
    "\n",
    "array_one = np.array([1,2,3,4])\n",
    "array_one"
   ]
  },
  {
   "cell_type": "code",
   "execution_count": 5,
   "metadata": {},
   "outputs": [
    {
     "data": {
      "text/plain": [
       "array([9, 8, 7, 6])"
      ]
     },
     "execution_count": 5,
     "metadata": {},
     "output_type": "execute_result"
    }
   ],
   "source": [
    "numbers = [9,8,7,6]\n",
    "array_two = np.array(numbers)\n",
    "array_two"
   ]
  },
  {
   "cell_type": "code",
   "execution_count": 6,
   "metadata": {},
   "outputs": [
    {
     "data": {
      "text/plain": [
       "array([[0., 0., 0., 0.],\n",
       "       [0., 0., 0., 0.],\n",
       "       [0., 0., 0., 0.]])"
      ]
     },
     "execution_count": 6,
     "metadata": {},
     "output_type": "execute_result"
    }
   ],
   "source": [
    "# **IMPT Array of Zeros\n",
    "\n",
    "array_of_zeros = np.zeros((3,4))\n",
    "\n",
    "# 3 is rows and 4 is columns.\n",
    "\n",
    "array_of_zeros"
   ]
  }
 ],
 "metadata": {
  "kernelspec": {
   "display_name": "Python 3",
   "language": "python",
   "name": "python3"
  },
  "language_info": {
   "codemirror_mode": {
    "name": "ipython",
    "version": 3
   },
   "file_extension": ".py",
   "mimetype": "text/x-python",
   "name": "python",
   "nbconvert_exporter": "python",
   "pygments_lexer": "ipython3",
   "version": "3.7.3"
  }
 },
 "nbformat": 4,
 "nbformat_minor": 2
}
