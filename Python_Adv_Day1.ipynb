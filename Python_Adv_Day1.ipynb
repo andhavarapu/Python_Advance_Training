{
 "cells": [
  {
   "cell_type": "code",
   "execution_count": null,
   "metadata": {},
   "outputs": [],
   "source": [
    "# Python_Adv_Day1 - 07-31-19[Wednesday]\n",
    "\n",
    "# Intro Class #\n",
    "\n",
    "# welcome all of you to the advance python training!\n",
    "\n",
    "-- Introdution \n",
    "-- Topics Covered\n",
    "-- Projects\n",
    "-- Interview Tips\n",
    "-- Any Question?\n",
    "\n",
    "-- Numpy, Pandan, Matplotlib and Scipy\n",
    "-- OOPS concepts of Python\n",
    "-- Working along with you for a complete project.\n",
    "-- Github links....\n",
    "-- CV Preparation along followed with mock interview.\n",
    "-- Total Duration -- Approx --> 25 to 30 Days.\n",
    "-- Hight School -- Maths...\n",
    "-- Data Validation...searching...sentiment...analysis.\n",
    "\n",
    "--> Numpy : Overview : Mathamatical & Sceintific Libraray used in AI and ML\n",
    "--> Pandas - Data Analysis -- Library.\n",
    "--> Matplot lib\n",
    "--> Scipy\n",
    "--> OOPS - Object Oriented Programming\n",
    "--> "
   ]
  }
 ],
 "metadata": {
  "kernelspec": {
   "display_name": "Python 3",
   "language": "python",
   "name": "python3"
  },
  "language_info": {
   "codemirror_mode": {
    "name": "ipython",
    "version": 3
   },
   "file_extension": ".py",
   "mimetype": "text/x-python",
   "name": "python",
   "nbconvert_exporter": "python",
   "pygments_lexer": "ipython3",
   "version": "3.7.3"
  }
 },
 "nbformat": 4,
 "nbformat_minor": 2
}
