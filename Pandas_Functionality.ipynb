{
 "cells": [
  {
   "cell_type": "code",
   "execution_count": 7,
   "metadata": {},
   "outputs": [
    {
     "name": "stdout",
     "output_type": "stream",
     "text": [
      "0     0.389480\n",
      "1     0.239377\n",
      "2     1.305828\n",
      "3    -0.800487\n",
      "4    -0.209028\n",
      "5    -1.433947\n",
      "6    -1.246027\n",
      "7    -0.694159\n",
      "8     0.488118\n",
      "9    -2.083326\n",
      "10    0.161168\n",
      "11    1.053956\n",
      "12   -0.702002\n",
      "13   -0.718947\n",
      "14   -0.061956\n",
      "15   -0.220310\n",
      "16    0.613661\n",
      "17   -1.099616\n",
      "18    1.679409\n",
      "19   -0.826838\n",
      "20    0.439910\n",
      "21   -1.933093\n",
      "22    0.220850\n",
      "23    1.890712\n",
      "24   -1.778502\n",
      "25    1.287798\n",
      "26    1.365260\n",
      "27    1.479957\n",
      "28   -1.353215\n",
      "29    0.651895\n",
      "        ...   \n",
      "70    0.070151\n",
      "71    0.018811\n",
      "72   -0.366208\n",
      "73    2.371959\n",
      "74   -0.783871\n",
      "75    1.082410\n",
      "76    0.709718\n",
      "77    0.943218\n",
      "78   -0.686007\n",
      "79   -0.198924\n",
      "80    0.371651\n",
      "81   -0.961707\n",
      "82    0.223808\n",
      "83    1.521412\n",
      "84   -1.606210\n",
      "85   -0.443676\n",
      "86    0.490382\n",
      "87    0.301131\n",
      "88   -1.025025\n",
      "89    0.953084\n",
      "90    0.061010\n",
      "91   -1.786131\n",
      "92    1.186227\n",
      "93    2.539482\n",
      "94    0.352457\n",
      "95    1.133623\n",
      "96    0.791660\n",
      "97   -0.622453\n",
      "98    0.238046\n",
      "99   -0.084103\n",
      "Length: 100, dtype: float64\n"
     ]
    }
   ],
   "source": [
    "# Pandas_Functionality 03Sep2019[Tuesday]\n",
    "\n",
    "import pandas as pd\n",
    "import numpy as np\n",
    "# Create a series with 100 random numbers\n",
    "s=pd.Series(np.random.randn(100))\n",
    "print(s)"
   ]
  },
  {
   "cell_type": "code",
   "execution_count": 8,
   "metadata": {},
   "outputs": [
    {
     "name": "stdout",
     "output_type": "stream",
     "text": [
      "0   -0.889439\n",
      "1    0.401846\n",
      "2    0.843395\n",
      "3    0.620702\n",
      "4   -0.548154\n",
      "dtype: float64\n"
     ]
    }
   ],
   "source": [
    "# Create a series with 100 random numbers\n",
    "s=pd.Series(np.random.randn(5))\n",
    "print(s)"
   ]
  },
  {
   "cell_type": "code",
   "execution_count": 9,
   "metadata": {},
   "outputs": [
    {
     "name": "stdout",
     "output_type": "stream",
     "text": [
      "The Axes are :\n",
      "[RangeIndex(start=0, stop=5, step=1)]\n"
     ]
    }
   ],
   "source": [
    "#Axes\n",
    "s=pd.Series(np.random.randn(5))\n",
    "print(\"The Axes are :\")\n",
    "print(s.axes)"
   ]
  },
  {
   "cell_type": "code",
   "execution_count": 10,
   "metadata": {},
   "outputs": [
    {
     "name": "stdout",
     "output_type": "stream",
     "text": [
      "Is the object empty?\n",
      "False\n"
     ]
    }
   ],
   "source": [
    "# Empty\n",
    "s=pd.Series(np.random.randn(20))\n",
    "print(\"Is the object empty?\")\n",
    "print(s.empty)"
   ]
  },
  {
   "cell_type": "code",
   "execution_count": 13,
   "metadata": {},
   "outputs": [
    {
     "ename": "ValueError",
     "evalue": "negative dimensions are not allowed",
     "output_type": "error",
     "traceback": [
      "\u001b[0;31m---------------------------------------------------------------------------\u001b[0m",
      "\u001b[0;31mValueError\u001b[0m                                Traceback (most recent call last)",
      "\u001b[0;32m<ipython-input-13-ea622767e0bf>\u001b[0m in \u001b[0;36m<module>\u001b[0;34m\u001b[0m\n\u001b[1;32m      1\u001b[0m \u001b[0;31m# Empty\u001b[0m\u001b[0;34m\u001b[0m\u001b[0;34m\u001b[0m\u001b[0;34m\u001b[0m\u001b[0m\n\u001b[0;32m----> 2\u001b[0;31m \u001b[0ms\u001b[0m\u001b[0;34m=\u001b[0m\u001b[0mpd\u001b[0m\u001b[0;34m.\u001b[0m\u001b[0mSeries\u001b[0m\u001b[0;34m(\u001b[0m\u001b[0mnp\u001b[0m\u001b[0;34m.\u001b[0m\u001b[0mrandom\u001b[0m\u001b[0;34m.\u001b[0m\u001b[0mrandn\u001b[0m\u001b[0;34m(\u001b[0m\u001b[0;34m-\u001b[0m\u001b[0;36m1\u001b[0m\u001b[0;34m)\u001b[0m\u001b[0;34m)\u001b[0m\u001b[0;34m\u001b[0m\u001b[0;34m\u001b[0m\u001b[0m\n\u001b[0m\u001b[1;32m      3\u001b[0m \u001b[0mprint\u001b[0m\u001b[0;34m(\u001b[0m\u001b[0;34m\"Is the object empty?\"\u001b[0m\u001b[0;34m)\u001b[0m\u001b[0;34m\u001b[0m\u001b[0;34m\u001b[0m\u001b[0m\n\u001b[1;32m      4\u001b[0m \u001b[0mprint\u001b[0m\u001b[0;34m(\u001b[0m\u001b[0ms\u001b[0m\u001b[0;34m.\u001b[0m\u001b[0mempty\u001b[0m\u001b[0;34m)\u001b[0m\u001b[0;34m\u001b[0m\u001b[0;34m\u001b[0m\u001b[0m\n",
      "\u001b[0;32mmtrand.pyx\u001b[0m in \u001b[0;36mmtrand.RandomState.randn\u001b[0;34m()\u001b[0m\n",
      "\u001b[0;32mmtrand.pyx\u001b[0m in \u001b[0;36mmtrand.RandomState.standard_normal\u001b[0;34m()\u001b[0m\n",
      "\u001b[0;32mmtrand.pyx\u001b[0m in \u001b[0;36mmtrand.cont0_array\u001b[0;34m()\u001b[0m\n",
      "\u001b[0;31mValueError\u001b[0m: negative dimensions are not allowed"
     ]
    }
   ],
   "source": [
    "# Empty\n",
    "s=pd.Series(np.random.randn(-1))\n",
    "print(\"Is the object empty?\")\n",
    "print(s.empty)"
   ]
  },
  {
   "cell_type": "code",
   "execution_count": 14,
   "metadata": {},
   "outputs": [
    {
     "name": "stdout",
     "output_type": "stream",
     "text": [
      "Is the object empty?\n",
      "True\n"
     ]
    }
   ],
   "source": [
    "# Empty\n",
    "s=pd.Series(np.random.randn(0))\n",
    "print(\"Is the object empty?\")\n",
    "print(s.empty)"
   ]
  },
  {
   "cell_type": "code",
   "execution_count": 16,
   "metadata": {},
   "outputs": [
    {
     "name": "stdout",
     "output_type": "stream",
     "text": [
      "0   -2.309953\n",
      "1   -0.984529\n",
      "2    1.054414\n",
      "3   -0.289827\n",
      "dtype: float64\n",
      "The Dimensions of the object:\n",
      "1\n"
     ]
    }
   ],
   "source": [
    "#ndim\n",
    "s=pd.Series(np.random.randn(4))\n",
    "print(s)\n",
    "print(\"The Dimensions of the object:\")\n",
    "print(s.ndim)"
   ]
  },
  {
   "cell_type": "code",
   "execution_count": 22,
   "metadata": {},
   "outputs": [
    {
     "name": "stdout",
     "output_type": "stream",
     "text": [
      "4    1\n",
      "5    2\n",
      "6    3\n",
      "dtype: int64\n",
      "The Dimensions of the object:\n",
      "1\n"
     ]
    }
   ],
   "source": [
    "#ndim\n",
    "s=pd.Series([1,2,3],[4,5,6])\n",
    "print(s)\n",
    "print(\"The Dimensions of the object:\")\n",
    "print(s.ndim)"
   ]
  },
  {
   "cell_type": "code",
   "execution_count": 23,
   "metadata": {},
   "outputs": [
    {
     "name": "stdout",
     "output_type": "stream",
     "text": [
      "3\n"
     ]
    }
   ],
   "source": [
    "print(s.size)"
   ]
  },
  {
   "cell_type": "code",
   "execution_count": 25,
   "metadata": {},
   "outputs": [
    {
     "name": "stdout",
     "output_type": "stream",
     "text": [
      "0     1.028636\n",
      "1    -0.903639\n",
      "2    -1.168560\n",
      "3     0.950130\n",
      "4     0.918759\n",
      "5     0.517257\n",
      "6    -0.131277\n",
      "7    -0.526992\n",
      "8     0.947953\n",
      "9     0.416090\n",
      "10   -0.317848\n",
      "11   -1.788914\n",
      "dtype: float64\n",
      "The Actual data series is: \n",
      "[ 1.02863626 -0.90363904 -1.16856015  0.95012983  0.91875876  0.5172568\n",
      " -0.1312775  -0.52699195  0.9479534   0.41609029 -0.31784806 -1.78891416]\n"
     ]
    }
   ],
   "source": [
    "#Values\n",
    "s=pd.Series(np.random.randn(12))\n",
    "print(s)\n",
    "print(\"The Actual data series is: \")\n",
    "print(s.values)"
   ]
  },
  {
   "cell_type": "code",
   "execution_count": 29,
   "metadata": {},
   "outputs": [
    {
     "name": "stdout",
     "output_type": "stream",
     "text": [
      "0    -0.350056\n",
      "1    -2.407630\n",
      "2     1.454581\n",
      "3    -0.263998\n",
      "4    -0.030517\n",
      "5    -0.472460\n",
      "6    -1.431644\n",
      "7     0.747957\n",
      "8     0.123579\n",
      "9    -0.568941\n",
      "10    1.016550\n",
      "11    1.699590\n",
      "12   -0.764441\n",
      "13   -0.643666\n",
      "14    0.506335\n",
      "15   -0.925976\n",
      "16    0.268965\n",
      "17    1.138052\n",
      "18   -0.424629\n",
      "19   -1.209099\n",
      "20   -1.182716\n",
      "21   -0.233407\n",
      "22   -0.401966\n",
      "23   -0.410624\n",
      "24   -0.539044\n",
      "25    0.177500\n",
      "26    0.127809\n",
      "27    0.240980\n",
      "28    0.195555\n",
      "29   -2.661562\n",
      "30   -0.179324\n",
      "31   -0.210830\n",
      "32   -1.528081\n",
      "33   -1.982794\n",
      "34   -1.155261\n",
      "35   -0.306036\n",
      "36    1.571114\n",
      "37    1.506134\n",
      "38    1.886995\n",
      "39   -0.026454\n",
      "40    2.488095\n",
      "41    0.426588\n",
      "42    0.161564\n",
      "43    0.261299\n",
      "44   -0.424578\n",
      "45    1.125151\n",
      "46   -0.021675\n",
      "47    0.502320\n",
      "48    1.385386\n",
      "49    1.253085\n",
      "dtype: float64\n",
      "\n",
      "The first three rows of the data series\n",
      "0   -0.350056\n",
      "1   -2.407630\n",
      "2    1.454581\n",
      "dtype: float64\n",
      "\n",
      "The last four rows of the data series\n",
      "46   -0.021675\n",
      "47    0.502320\n",
      "48    1.385386\n",
      "49    1.253085\n",
      "dtype: float64\n"
     ]
    }
   ],
   "source": [
    "# Print Head and Tail\n",
    "s=pd.Series(np.random.randn(50))\n",
    "print(s)\n",
    "print(\"\\nThe first three rows of the data series\")\n",
    "print(s.head(3))\n",
    "print(\"\\nThe last four rows of the data series\")\n",
    "print(s.tail(4))"
   ]
  }
 ],
 "metadata": {
  "kernelspec": {
   "display_name": "Python 3",
   "language": "python",
   "name": "python3"
  },
  "language_info": {
   "codemirror_mode": {
    "name": "ipython",
    "version": 3
   },
   "file_extension": ".py",
   "mimetype": "text/x-python",
   "name": "python",
   "nbconvert_exporter": "python",
   "pygments_lexer": "ipython3",
   "version": "3.7.3"
  }
 },
 "nbformat": 4,
 "nbformat_minor": 2
}
