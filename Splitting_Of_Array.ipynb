{
 "cells": [
  {
   "cell_type": "code",
   "execution_count": 1,
   "metadata": {},
   "outputs": [
    {
     "data": {
      "text/plain": [
       "array([0, 1, 2, 3, 4, 5, 6, 7, 8])"
      ]
     },
     "execution_count": 1,
     "metadata": {},
     "output_type": "execute_result"
    }
   ],
   "source": [
    "#Splitting_Of_Array  [08-23-19]\n",
    "\n",
    "import numpy as np\n",
    "\n",
    "x=np.arange(9)\n",
    "x"
   ]
  },
  {
   "cell_type": "code",
   "execution_count": 2,
   "metadata": {},
   "outputs": [
    {
     "name": "stdout",
     "output_type": "stream",
     "text": [
      "Split the array in three equal-sized subarrays\n"
     ]
    },
    {
     "data": {
      "text/plain": [
       "[array([0, 1, 2]), array([3, 4, 5]), array([6, 7, 8])]"
      ]
     },
     "execution_count": 2,
     "metadata": {},
     "output_type": "execute_result"
    }
   ],
   "source": [
    "print('Split the array in three equal-sized subarrays')\n",
    "np.split(x,3)"
   ]
  },
  {
   "cell_type": "code",
   "execution_count": 6,
   "metadata": {},
   "outputs": [
    {
     "name": "stdout",
     "output_type": "stream",
     "text": [
      "P1 Array = [['Germany' 'France']\n",
      " ['Berlin' 'Paris']]\n",
      "P2 Array = [['Hungary' 'Austria']\n",
      " ['Budapest' 'Vienna']]\n"
     ]
    }
   ],
   "source": [
    "# hsplit.....Horizontal Splitting!\n",
    "y= np.array([('Germany','France','Hungary','Austria'),\n",
    "             ('Berlin','Paris','Budapest','Vienna')])\n",
    "p1,p2=np.hsplit(y,2)\n",
    "\n",
    "print('P1 Array =', p1)\n",
    "print('P2 Array =', p2)"
   ]
  },
  {
   "cell_type": "code",
   "execution_count": 7,
   "metadata": {},
   "outputs": [
    {
     "name": "stdout",
     "output_type": "stream",
     "text": [
      "P3 Array = [['Germany' 'France' 'Hungary' 'Austria']]\n",
      "P4 Array = [['Berlin' 'Paris' 'Budapest' 'Vienna']]\n"
     ]
    }
   ],
   "source": [
    "#vsplit\n",
    "p3,p4 = np.split(y,2)\n",
    "\n",
    "print('P3 Array =', p3)\n",
    "print('P4 Array =', p4)"
   ]
  },
  {
   "cell_type": "code",
   "execution_count": 9,
   "metadata": {},
   "outputs": [
    {
     "name": "stdout",
     "output_type": "stream",
     "text": [
      "countries:\n",
      "['Germany' 'France' 'Hungary' 'Austria']\n",
      "Capitals:\n",
      "['Berlin' 'Paris' 'Budapest' 'Vienna']\n"
     ]
    }
   ],
   "source": [
    "# Array Unpacking\n",
    "\n",
    "countries,capitals = y\n",
    "print('countries:')\n",
    "print(countries)\n",
    "\n",
    "print('Capitals:')\n",
    "print(capitals)"
   ]
  },
  {
   "cell_type": "code",
   "execution_count": null,
   "metadata": {},
   "outputs": [],
   "source": [
    "# Numpy  --> Used for Array Calculations\n",
    "# Pandas --> Used for Tabular Calculations."
   ]
  }
 ],
 "metadata": {
  "kernelspec": {
   "display_name": "Python 3",
   "language": "python",
   "name": "python3"
  },
  "language_info": {
   "codemirror_mode": {
    "name": "ipython",
    "version": 3
   },
   "file_extension": ".py",
   "mimetype": "text/x-python",
   "name": "python",
   "nbconvert_exporter": "python",
   "pygments_lexer": "ipython3",
   "version": "3.7.3"
  }
 },
 "nbformat": 4,
 "nbformat_minor": 2
}
